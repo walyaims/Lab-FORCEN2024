{
  "nbformat": 4,
  "nbformat_minor": 0,
  "metadata": {
    "colab": {
      "provenance": []
    },
    "kernelspec": {
      "name": "python3",
      "display_name": "Python 3"
    },
    "language_info": {
      "name": "python"
    }
  },
  "cells": [
    {
      "cell_type": "markdown",
      "source": [
        "#Un encodage à chaud ou un encodage d'étiquettes à l'aide de Scikit-Learn"
      ],
      "metadata": {
        "id": "_axsSDqUQVbx"
      }
    },
    {
      "cell_type": "markdown",
      "source": [
        "*Le codage catégoriel est le processus de conversion de colonnes catégorielles en colonnes numériques afin qu'un algorithme d'apprentissage automatique le comprenne. C'est un processus de conversion de catégories en nombres.*\n",
        "\n",
        "**Différentes approches du codage catégoriel**\n",
        "\n",
        "Alors, comment devrions-nous gérer les variables catégorielles ? Il s'avère qu'il existe plusieurs façons de gérer les variables catégorielles. Dans cet article, je vais aborder les deux techniques les plus utilisées :\n",
        "\n",
        "***Encodage des étiquettes***\n",
        "\n",
        "***Encodage à chaud***\n",
        "\n",
        "**Qu’est-ce que l’encodage d’étiquettes ?**\n",
        "\n",
        "*Le codage d'étiquettes est une technique de codage populaire pour gérer les variables catégorielles. Un nombre entier unique ou un ordre alphabétique représente chaque étiquette.*\n",
        "\n",
        "Voyons comment implémenter le codage d'étiquettes en Python à l'aide de la bibliothèque scikit-learn et comprenons également les défis liés au codage d'étiquetes"
      ],
      "metadata": {
        "id": "7mXxKiNiQYct"
      }
    },
    {
      "cell_type": "code",
      "execution_count": null,
      "metadata": {
        "id": "P24b4MbwQCqT"
      },
      "outputs": [],
      "source": [
        "#Importez d’abord les bibliothèques et l’ensemble de données requis :\n",
        "\n",
        "#importing the libraries\n",
        "import pandas as pd\n",
        "import numpy as np\n",
        "\n",
        "#reading the dataset\n",
        "data=pd.read_csv(\"/content/salary.csv\")"
      ]
    },
    {
      "cell_type": "code",
      "source": [
        "data"
      ],
      "metadata": {
        "colab": {
          "base_uri": "https://localhost:8080/",
          "height": 363
        },
        "id": "F7TGafmrZaMe",
        "outputId": "d140a943-0251-4869-a468-681a497e4d02"
      },
      "execution_count": null,
      "outputs": [
        {
          "output_type": "execute_result",
          "data": {
            "text/plain": [
              "            Position  Level    Salary\n",
              "0   Business Analyst       1    45000\n",
              "1  Junior Consultant       2    50000\n",
              "2  Senior Consultant       3    60000\n",
              "3            Manager       4    80000\n",
              "4     Country Manger       5   110000\n",
              "5     Region Manager       6   150000\n",
              "6            Partner       7   200000\n",
              "7     Senior Partner       8   220000\n",
              "8            C.level       9   250000\n",
              "9                CEO      10  1000000"
            ],
            "text/html": [
              "\n",
              "  <div id=\"df-16067ad5-20cf-4247-996b-b09897329b78\" class=\"colab-df-container\">\n",
              "    <div>\n",
              "<style scoped>\n",
              "    .dataframe tbody tr th:only-of-type {\n",
              "        vertical-align: middle;\n",
              "    }\n",
              "\n",
              "    .dataframe tbody tr th {\n",
              "        vertical-align: top;\n",
              "    }\n",
              "\n",
              "    .dataframe thead th {\n",
              "        text-align: right;\n",
              "    }\n",
              "</style>\n",
              "<table border=\"1\" class=\"dataframe\">\n",
              "  <thead>\n",
              "    <tr style=\"text-align: right;\">\n",
              "      <th></th>\n",
              "      <th>Position</th>\n",
              "      <th>Level</th>\n",
              "      <th>Salary</th>\n",
              "    </tr>\n",
              "  </thead>\n",
              "  <tbody>\n",
              "    <tr>\n",
              "      <th>0</th>\n",
              "      <td>Business Analyst</td>\n",
              "      <td>1</td>\n",
              "      <td>45000</td>\n",
              "    </tr>\n",
              "    <tr>\n",
              "      <th>1</th>\n",
              "      <td>Junior Consultant</td>\n",
              "      <td>2</td>\n",
              "      <td>50000</td>\n",
              "    </tr>\n",
              "    <tr>\n",
              "      <th>2</th>\n",
              "      <td>Senior Consultant</td>\n",
              "      <td>3</td>\n",
              "      <td>60000</td>\n",
              "    </tr>\n",
              "    <tr>\n",
              "      <th>3</th>\n",
              "      <td>Manager</td>\n",
              "      <td>4</td>\n",
              "      <td>80000</td>\n",
              "    </tr>\n",
              "    <tr>\n",
              "      <th>4</th>\n",
              "      <td>Country Manger</td>\n",
              "      <td>5</td>\n",
              "      <td>110000</td>\n",
              "    </tr>\n",
              "    <tr>\n",
              "      <th>5</th>\n",
              "      <td>Region Manager</td>\n",
              "      <td>6</td>\n",
              "      <td>150000</td>\n",
              "    </tr>\n",
              "    <tr>\n",
              "      <th>6</th>\n",
              "      <td>Partner</td>\n",
              "      <td>7</td>\n",
              "      <td>200000</td>\n",
              "    </tr>\n",
              "    <tr>\n",
              "      <th>7</th>\n",
              "      <td>Senior Partner</td>\n",
              "      <td>8</td>\n",
              "      <td>220000</td>\n",
              "    </tr>\n",
              "    <tr>\n",
              "      <th>8</th>\n",
              "      <td>C.level</td>\n",
              "      <td>9</td>\n",
              "      <td>250000</td>\n",
              "    </tr>\n",
              "    <tr>\n",
              "      <th>9</th>\n",
              "      <td>CEO</td>\n",
              "      <td>10</td>\n",
              "      <td>1000000</td>\n",
              "    </tr>\n",
              "  </tbody>\n",
              "</table>\n",
              "</div>\n",
              "    <div class=\"colab-df-buttons\">\n",
              "\n",
              "  <div class=\"colab-df-container\">\n",
              "    <button class=\"colab-df-convert\" onclick=\"convertToInteractive('df-16067ad5-20cf-4247-996b-b09897329b78')\"\n",
              "            title=\"Convert this dataframe to an interactive table.\"\n",
              "            style=\"display:none;\">\n",
              "\n",
              "  <svg xmlns=\"http://www.w3.org/2000/svg\" height=\"24px\" viewBox=\"0 -960 960 960\">\n",
              "    <path d=\"M120-120v-720h720v720H120Zm60-500h600v-160H180v160Zm220 220h160v-160H400v160Zm0 220h160v-160H400v160ZM180-400h160v-160H180v160Zm440 0h160v-160H620v160ZM180-180h160v-160H180v160Zm440 0h160v-160H620v160Z\"/>\n",
              "  </svg>\n",
              "    </button>\n",
              "\n",
              "  <style>\n",
              "    .colab-df-container {\n",
              "      display:flex;\n",
              "      gap: 12px;\n",
              "    }\n",
              "\n",
              "    .colab-df-convert {\n",
              "      background-color: #E8F0FE;\n",
              "      border: none;\n",
              "      border-radius: 50%;\n",
              "      cursor: pointer;\n",
              "      display: none;\n",
              "      fill: #1967D2;\n",
              "      height: 32px;\n",
              "      padding: 0 0 0 0;\n",
              "      width: 32px;\n",
              "    }\n",
              "\n",
              "    .colab-df-convert:hover {\n",
              "      background-color: #E2EBFA;\n",
              "      box-shadow: 0px 1px 2px rgba(60, 64, 67, 0.3), 0px 1px 3px 1px rgba(60, 64, 67, 0.15);\n",
              "      fill: #174EA6;\n",
              "    }\n",
              "\n",
              "    .colab-df-buttons div {\n",
              "      margin-bottom: 4px;\n",
              "    }\n",
              "\n",
              "    [theme=dark] .colab-df-convert {\n",
              "      background-color: #3B4455;\n",
              "      fill: #D2E3FC;\n",
              "    }\n",
              "\n",
              "    [theme=dark] .colab-df-convert:hover {\n",
              "      background-color: #434B5C;\n",
              "      box-shadow: 0px 1px 3px 1px rgba(0, 0, 0, 0.15);\n",
              "      filter: drop-shadow(0px 1px 2px rgba(0, 0, 0, 0.3));\n",
              "      fill: #FFFFFF;\n",
              "    }\n",
              "  </style>\n",
              "\n",
              "    <script>\n",
              "      const buttonEl =\n",
              "        document.querySelector('#df-16067ad5-20cf-4247-996b-b09897329b78 button.colab-df-convert');\n",
              "      buttonEl.style.display =\n",
              "        google.colab.kernel.accessAllowed ? 'block' : 'none';\n",
              "\n",
              "      async function convertToInteractive(key) {\n",
              "        const element = document.querySelector('#df-16067ad5-20cf-4247-996b-b09897329b78');\n",
              "        const dataTable =\n",
              "          await google.colab.kernel.invokeFunction('convertToInteractive',\n",
              "                                                    [key], {});\n",
              "        if (!dataTable) return;\n",
              "\n",
              "        const docLinkHtml = 'Like what you see? Visit the ' +\n",
              "          '<a target=\"_blank\" href=https://colab.research.google.com/notebooks/data_table.ipynb>data table notebook</a>'\n",
              "          + ' to learn more about interactive tables.';\n",
              "        element.innerHTML = '';\n",
              "        dataTable['output_type'] = 'display_data';\n",
              "        await google.colab.output.renderOutput(dataTable, element);\n",
              "        const docLink = document.createElement('div');\n",
              "        docLink.innerHTML = docLinkHtml;\n",
              "        element.appendChild(docLink);\n",
              "      }\n",
              "    </script>\n",
              "  </div>\n",
              "\n",
              "\n",
              "<div id=\"df-b2022a82-9e36-425f-89d0-91edd2e88994\">\n",
              "  <button class=\"colab-df-quickchart\" onclick=\"quickchart('df-b2022a82-9e36-425f-89d0-91edd2e88994')\"\n",
              "            title=\"Suggest charts\"\n",
              "            style=\"display:none;\">\n",
              "\n",
              "<svg xmlns=\"http://www.w3.org/2000/svg\" height=\"24px\"viewBox=\"0 0 24 24\"\n",
              "     width=\"24px\">\n",
              "    <g>\n",
              "        <path d=\"M19 3H5c-1.1 0-2 .9-2 2v14c0 1.1.9 2 2 2h14c1.1 0 2-.9 2-2V5c0-1.1-.9-2-2-2zM9 17H7v-7h2v7zm4 0h-2V7h2v10zm4 0h-2v-4h2v4z\"/>\n",
              "    </g>\n",
              "</svg>\n",
              "  </button>\n",
              "\n",
              "<style>\n",
              "  .colab-df-quickchart {\n",
              "      --bg-color: #E8F0FE;\n",
              "      --fill-color: #1967D2;\n",
              "      --hover-bg-color: #E2EBFA;\n",
              "      --hover-fill-color: #174EA6;\n",
              "      --disabled-fill-color: #AAA;\n",
              "      --disabled-bg-color: #DDD;\n",
              "  }\n",
              "\n",
              "  [theme=dark] .colab-df-quickchart {\n",
              "      --bg-color: #3B4455;\n",
              "      --fill-color: #D2E3FC;\n",
              "      --hover-bg-color: #434B5C;\n",
              "      --hover-fill-color: #FFFFFF;\n",
              "      --disabled-bg-color: #3B4455;\n",
              "      --disabled-fill-color: #666;\n",
              "  }\n",
              "\n",
              "  .colab-df-quickchart {\n",
              "    background-color: var(--bg-color);\n",
              "    border: none;\n",
              "    border-radius: 50%;\n",
              "    cursor: pointer;\n",
              "    display: none;\n",
              "    fill: var(--fill-color);\n",
              "    height: 32px;\n",
              "    padding: 0;\n",
              "    width: 32px;\n",
              "  }\n",
              "\n",
              "  .colab-df-quickchart:hover {\n",
              "    background-color: var(--hover-bg-color);\n",
              "    box-shadow: 0 1px 2px rgba(60, 64, 67, 0.3), 0 1px 3px 1px rgba(60, 64, 67, 0.15);\n",
              "    fill: var(--button-hover-fill-color);\n",
              "  }\n",
              "\n",
              "  .colab-df-quickchart-complete:disabled,\n",
              "  .colab-df-quickchart-complete:disabled:hover {\n",
              "    background-color: var(--disabled-bg-color);\n",
              "    fill: var(--disabled-fill-color);\n",
              "    box-shadow: none;\n",
              "  }\n",
              "\n",
              "  .colab-df-spinner {\n",
              "    border: 2px solid var(--fill-color);\n",
              "    border-color: transparent;\n",
              "    border-bottom-color: var(--fill-color);\n",
              "    animation:\n",
              "      spin 1s steps(1) infinite;\n",
              "  }\n",
              "\n",
              "  @keyframes spin {\n",
              "    0% {\n",
              "      border-color: transparent;\n",
              "      border-bottom-color: var(--fill-color);\n",
              "      border-left-color: var(--fill-color);\n",
              "    }\n",
              "    20% {\n",
              "      border-color: transparent;\n",
              "      border-left-color: var(--fill-color);\n",
              "      border-top-color: var(--fill-color);\n",
              "    }\n",
              "    30% {\n",
              "      border-color: transparent;\n",
              "      border-left-color: var(--fill-color);\n",
              "      border-top-color: var(--fill-color);\n",
              "      border-right-color: var(--fill-color);\n",
              "    }\n",
              "    40% {\n",
              "      border-color: transparent;\n",
              "      border-right-color: var(--fill-color);\n",
              "      border-top-color: var(--fill-color);\n",
              "    }\n",
              "    60% {\n",
              "      border-color: transparent;\n",
              "      border-right-color: var(--fill-color);\n",
              "    }\n",
              "    80% {\n",
              "      border-color: transparent;\n",
              "      border-right-color: var(--fill-color);\n",
              "      border-bottom-color: var(--fill-color);\n",
              "    }\n",
              "    90% {\n",
              "      border-color: transparent;\n",
              "      border-bottom-color: var(--fill-color);\n",
              "    }\n",
              "  }\n",
              "</style>\n",
              "\n",
              "  <script>\n",
              "    async function quickchart(key) {\n",
              "      const quickchartButtonEl =\n",
              "        document.querySelector('#' + key + ' button');\n",
              "      quickchartButtonEl.disabled = true;  // To prevent multiple clicks.\n",
              "      quickchartButtonEl.classList.add('colab-df-spinner');\n",
              "      try {\n",
              "        const charts = await google.colab.kernel.invokeFunction(\n",
              "            'suggestCharts', [key], {});\n",
              "      } catch (error) {\n",
              "        console.error('Error during call to suggestCharts:', error);\n",
              "      }\n",
              "      quickchartButtonEl.classList.remove('colab-df-spinner');\n",
              "      quickchartButtonEl.classList.add('colab-df-quickchart-complete');\n",
              "    }\n",
              "    (() => {\n",
              "      let quickchartButtonEl =\n",
              "        document.querySelector('#df-b2022a82-9e36-425f-89d0-91edd2e88994 button');\n",
              "      quickchartButtonEl.style.display =\n",
              "        google.colab.kernel.accessAllowed ? 'block' : 'none';\n",
              "    })();\n",
              "  </script>\n",
              "</div>\n",
              "    </div>\n",
              "  </div>\n"
            ]
          },
          "metadata": {},
          "execution_count": 33
        }
      ]
    },
    {
      "cell_type": "code",
      "source": [
        "#Comprendre les types de données des fonctionnalités :\n",
        "data.info()"
      ],
      "metadata": {
        "id": "xGkoCz-MT9lf",
        "colab": {
          "base_uri": "https://localhost:8080/"
        },
        "outputId": "07cbc52c-691f-4a52-c5ad-11da09e88614"
      },
      "execution_count": null,
      "outputs": [
        {
          "output_type": "stream",
          "name": "stdout",
          "text": [
            "<class 'pandas.core.frame.DataFrame'>\n",
            "RangeIndex: 10 entries, 0 to 9\n",
            "Data columns (total 3 columns):\n",
            " #   Column    Non-Null Count  Dtype \n",
            "---  ------    --------------  ----- \n",
            " 0   Position  10 non-null     object\n",
            " 1   Level     10 non-null     int64 \n",
            " 2   Salary    10 non-null     int64 \n",
            "dtypes: int64(2), object(1)\n",
            "memory usage: 368.0+ bytes\n"
          ]
        }
      ]
    },
    {
      "cell_type": "markdown",
      "source": [
        "Comme vous pouvez le voir ici, la première colonne, Position, est la caractéristique catégorielle telle qu'elle est représentée par le type de données de l'objet  et les autres sont des caractéristiques numériques telles qu'elles sont représentées par int64 .\n",
        "\n",
        "Maintenant, implémentons l'encodage des étiquettes en Python :"
      ],
      "metadata": {
        "id": "_Q6mffuK31gn"
      }
    },
    {
      "cell_type": "code",
      "source": [
        "# Import label encoder\n",
        "from sklearn import preprocessing\n",
        "# label_encoder object knows how to understand word labels.\n",
        "label_encoder = preprocessing.LabelEncoder()\n",
        "# Encode labels in column 'Country'.\n",
        "data['Country']= label_encoder.fit_transform(data['Country'])\n",
        "print(data.head())"
      ],
      "metadata": {
        "id": "8u9XY6QJCp9g"
      },
      "execution_count": null,
      "outputs": []
    },
    {
      "cell_type": "markdown",
      "source": [
        "Comme vous pouvez le voir ici, le codage des étiquettes utilise l'ordre alphabétique. Par conséquent, l’Inde a été codée avec 0, les États-Unis avec 2 et le Japon avec 1.\n",
        "\n",
        "**Challenges with Label Encoding**\n",
        "\n",
        "Dans le scénario ci-dessus, les noms de pays n’ont ni ordre ni rang. Mais lorsque le codage des étiquettes est effectué, les noms de pays sont classés en fonction des alphabets. Pour cette raison, il existe une très forte probabilité que le modèle capture la relation entre des pays tels que l'Inde < le Japon < les États-Unis."
      ],
      "metadata": {
        "id": "k2bd9VxvC15T"
      }
    },
    {
      "cell_type": "markdown",
      "source": [
        "**Qu’est-ce qu’un encodage à chaud ?**\n",
        "\n",
        "*One-Hot Encoding est une autre technique populaire pour traiter les variables catégorielles. Il crée simplement des fonctionnalités supplémentaires basées sur le nombre de valeurs uniques dans la fonctionnalité catégorielle.* Chaque valeur unique de la catégorie sera ajoutée en tant que fonctionnalité. One-Hot Encoding est le processus de création de variables factices.\n",
        "\n",
        "Dans cette technique de codage, chaque catégorie est représentée sous la forme d'un vecteur unique.\n",
        "\n",
        "Voyons comment implémenter l'encodage one-hot en Python :"
      ],
      "metadata": {
        "id": "L1J4ahBk5Ney"
      }
    },
    {
      "cell_type": "code",
      "source": [
        "# importing one hot encoder\n",
        "from sklearn.preprocessing import OneHotEncoder\n",
        "# creating one hot encoder object\n",
        "onehotencoder = OneHotEncoder()\n",
        "#reshape the 1-D country array to 2-D as fit_transform expects 2-D and finally fit the object\n",
        "X = onehotencoder.fit_transform(data.Country.values.reshape(-1,1)).toarray()\n",
        "#To add this back into the original dataframe\n",
        "dfOneHot = pd.DataFrame(X, columns = [\"Country_\"+str(int(i)) for i in range(data.shape[1])])\n",
        "df = pd.concat([data, dfOneHot], axis=1)\n",
        "#droping the country column\n",
        "df= df.drop(['Country'], axis=1)\n",
        "#printing to verify\n",
        "print(df.head())"
      ],
      "metadata": {
        "id": "z7p4o5FADfCm"
      },
      "execution_count": null,
      "outputs": []
    },
    {
      "cell_type": "markdown",
      "source": [
        "Comme vous pouvez le voir ici, 3 nouvelles fonctionnalités sont ajoutées car le pays contient 3 valeurs uniques : l'Inde, le Japon et les États-Unis. Dans cette technique, nous avons résolu le problème du classement puisque chaque catégorie est représentée par un vecteur binaire."
      ],
      "metadata": {
        "id": "YOvNQINkqli_"
      }
    },
    {
      "cell_type": "markdown",
      "source": [
        "**Défis de l'encodage One-Hot**: piège à variables factices\n",
        "\n",
        "Le codage One-Hot entraîne un piège à variable factice, car le résultat d'une variable peut facilement être prédit à l'aide des variables restantes. Dummy Variable Trap est un scénario dans lequel les variables sont fortement corrélées les unes aux autres.\n",
        "\n",
        "Le piège des variables factices conduit au problème connu sous le nom de multicolinéarité . La multicolinéarité se produit lorsqu'il existe une dépendance entre les entités indépendantes. La multicolinéarité est un problème sérieux dans les modèles d'apprentissage automatique tels que la régression linéaire et la régression logistique .\n",
        "\n",
        "Ainsi, afin de surmonter le problème de multicolinéarité, l’une des variables muettes doit être supprimée. Ici, je vais démontrer pratiquement comment le problème de la multicolinéarité est introduit après avoir effectué le codage one-hot.\n",
        "\n",
        "L'un des moyens courants de vérifier la multicolinéarité est le facteur d'inflation de variance (VIF) :\n",
        "\n",
        "\n",
        "VIF=1, très moins de multicolinéarité\n",
        "\n",
        "VIF <5, multicolinéarité modérée\n",
        "\n",
        "VIF>5, Multicolinéarité Extrême (C'est ce qu'il faut éviter)\n",
        "\n",
        "Calculez les scores VIF :"
      ],
      "metadata": {
        "id": "ccEfXonoqmc7"
      }
    },
    {
      "cell_type": "code",
      "source": [
        "# Function to calculate VIF\n",
        "def calculate_vif(data):\n",
        "    vif_df = pd.DataFrame(columns = ['Var', 'Vif'])\n",
        "    x_var_names = data.columns\n",
        "    for i in range(0, x_var_names.shape[0]):\n",
        "        y = data[x_var_names[i]]\n",
        "        x = data[x_var_names.drop([x_var_names[i]])]\n",
        "        r_squared = sm.OLS(y,x).fit().rsquared\n",
        "        vif = round(1/(1-r_squared),2)\n",
        "        vif_df.loc[i] = [x_var_names[i], vif]\n",
        "    return vif_df.sort_values(by = 'Vif', axis = 0, ascending=False, inplace=False)\n",
        "\n",
        "X=df.drop(['Salary'],axis=1)\n",
        "calculate_vif(X)"
      ],
      "metadata": {
        "id": "o52xWAurrXaF"
      },
      "execution_count": null,
      "outputs": []
    },
    {
      "cell_type": "markdown",
      "source": [
        "À partir du résultat, nous pouvons voir que les variables factices créées à l'aide d'un codage à chaud ont un VIF supérieur à 5. Nous avons un problème de multicolinéarité.\n",
        "\n",
        "Maintenant, supprimons l'une des variables factices pour résoudre le problème de multicolinéarité :\n",
        "\n",
        "À partir du résultat, nous pouvons voir que les variables factices créées à l'aide d'un codage à chaud ont un VIF supérieur à 5. Nous avons un problème de multicolinéarité.\n",
        "\n",
        "Maintenant, supprimons l'une des variables factices pour résoudre le problème de multicolinéarité :"
      ],
      "metadata": {
        "id": "QvBOUrB6rl5p"
      }
    },
    {
      "cell_type": "code",
      "source": [
        "df = df.drop(df.columns[[0]], axis=1)\n",
        "calculate_vif(df)"
      ],
      "metadata": {
        "id": "0jJ0174ErkPl"
      },
      "execution_count": null,
      "outputs": []
    },
    {
      "cell_type": "markdown",
      "source": [
        "Ouah! Le VIF a diminué. Nous avons résolu le problème de la multicolinéarité. L’ensemble de données est désormais prêt pour la création du modèle."
      ],
      "metadata": {
        "id": "VR49tZ4ss4RT"
      }
    },
    {
      "cell_type": "markdown",
      "source": [
        "**Encodage One-Hot vs encodage d'étiquettes**\n",
        "\n",
        "***Méthode\tEncodage à chaud\tEncodage des étiquettes***\n",
        "\n",
        "Description\tConvertit chaque valeur catégorielle en vecteur binaire, créant ainsi de nouvelles colonnes binaires pour chaque catégorie.\n",
        "\n",
        "Exemple\tCatégorie originale : « Rouge »\n",
        "\n",
        "Codé : [1, 0, 0]\n",
        "\n",
        "Exemple\tCatégorie originale : « Vert »\n",
        "\n",
        "Codé : [0, 0, 1]\n",
        "\n",
        "Exemple\tCatégorie originale : « Bleu »\n",
        "\n",
        "\n",
        "Codé : [1, 0, 0]\n",
        "\n",
        "***Encodage des étiquettes***\n",
        "\n",
        "Attribue une étiquette numérique unique à chaque catégorie, en préservant la relation ordinale si elle est présente.\n",
        "\n",
        "Catégorie originale : « Rouge »\n",
        "\n",
        "Codé : 1\n",
        "\n",
        "Catégorie originale : « Vert »\n",
        "\n",
        "Codé : 2\n",
        "\n",
        "Catégorie originale : « Bleu »\n",
        "\n",
        "Codé : 3"
      ],
      "metadata": {
        "id": "XEzdFhFhtl3W"
      }
    },
    {
      "cell_type": "markdown",
      "source": [
        "**Quand utiliser un encodage d’étiquettes ou un encodage à chaud ?**\n",
        "\n",
        "Cette question dépend généralement de votre ensemble de données et du modèle que vous souhaitez appliquer. Mais quand même, quelques points à noter avant de choisir la bonne technique d’encodage pour votre modèle :\n",
        "\n",
        "***Nous appliquons le One-Hot Encoding lorsque :***\n",
        "\n",
        "1.   La caractéristique catégorielle n'est pas ordinale (comme les pays ci-dessus)\n",
        "2.   Le nombre de fonctionnalités catégorielles est moindre, ce qui permet d'appliquer efficacement l'encodage à chaud.\n",
        "\n",
        "***Nous appliquons le codage d'étiquette lorsque :***\n",
        "\n",
        "1. La caractéristique catégorielle est ordinale (comme Jr. kg, Sr. kg, école\n",
        "primaire, lycée)\n",
        "2.  Le nombre de catégories est assez important car l'encodage à chaud peut entraîner une consommation de mémoire élevée."
      ],
      "metadata": {
        "id": "4K7Q8Efwv9W3"
      }
    },
    {
      "cell_type": "markdown",
      "source": [
        "**Encodage d'étiquettes, encodage à chaud ou encodage ordinal**\n",
        "\n",
        "***Encodage d'étiquette :***  l'encodage d'étiquette attribue une étiquette numérique unique à chaque catégorie dans une variable catégorielle. Il préserve la relation ordinale entre les catégories si elle est présente. Par exemple, « Rouge » peut être codé comme 1, « Vert » comme 2 et « Bleu » comme 3.\n",
        "\n",
        "***Encodage One-Hot:***  l'encodage One-Hot convertit chaque catégorie d'une variable catégorielle en un vecteur binaire. Il crée de nouvelles colonnes binaires pour chaque catégorie, représentant la présence ou l'absence de la catégorie. Chaque catégorie s'exclut mutuellement. Par exemple, « Rouge » peut être codé comme [1, 0, 0], « Vert » comme [0, 1, 0] et « Bleu » comme [0, 0, 1].\n",
        "\n",
        "**Encodage ordinal:** l'encodage ordinal est similaire à l'encodage d'étiquettes mais prend en compte l'ordre ou le rang des catégories. Il attribue des étiquettes numériques uniques à chaque catégorie, préservant la relation ordinale entre les catégories. Par exemple, « Cold » peut être codé comme 1, « Warm » comme 2 et « Hot » comme 3."
      ],
      "metadata": {
        "id": "nYUaVPfixPdo"
      }
    }
  ]
}